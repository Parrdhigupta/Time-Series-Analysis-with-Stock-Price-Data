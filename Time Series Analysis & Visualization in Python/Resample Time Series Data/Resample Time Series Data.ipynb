{
 "cells": [
  {
   "cell_type": "markdown",
   "id": "4d2ae720",
   "metadata": {},
   "source": [
    "# Resampling"
   ]
  },
  {
   "cell_type": "markdown",
   "id": "8a922efd",
   "metadata": {},
   "source": [
    "`Resampling` is a technique in time series analysis that involves changing the frequency of the data observations. It’s often used to transform the data to a different frequency (e.g., from daily to monthly) to reveal patterns or trends more clearly."
   ]
  },
  {
   "cell_type": "markdown",
   "id": "320cc4df",
   "metadata": {},
   "source": [
    "Two Types : \n",
    "   * Upsampling\n",
    "   * Downsampling"
   ]
  },
  {
   "cell_type": "markdown",
   "id": "2205759a",
   "metadata": {},
   "source": [
    "## Upsampling"
   ]
  },
  {
   "cell_type": "markdown",
   "id": "43466fd9",
   "metadata": {},
   "source": [
    "Upsampling involves increasing the time-frequency of the data, it is a data disaggregation procedure where we break down the time frequency from a higher level to a lower level. \n",
    "\n",
    "For example Breaking down the time-frequency from months to days, or days to hours or hours to seconds. Upsampling usually blows up the size of the data, depending on the sampling frequency."
   ]
  },
  {
   "cell_type": "code",
   "execution_count": 1,
   "id": "26c28a0d",
   "metadata": {},
   "outputs": [
    {
     "data": {
      "text/plain": [
       "Months\n",
       "1/31/2021    200\n",
       "2/28/2021    300\n",
       "3/31/2021    250\n",
       "4/30/2021    450\n",
       "5/31/2021    325\n",
       "Name: Sales, dtype: int64"
      ]
     },
     "execution_count": 1,
     "metadata": {},
     "output_type": "execute_result"
    }
   ],
   "source": [
    "# import the python pandas library \n",
    "import pandas as pd \n",
    "\n",
    "# read data using read_csv \n",
    "data = pd.read_csv(\"Detergent sales data.csv\", header=0, \n",
    "                index_col=0, parse_dates=True) \n",
    "\n",
    "# If you need to convert a single column DataFrame to a Series, you can do so explicitly:\n",
    "if data.shape[1] == 1:\n",
    "    data = data.squeeze()\n",
    "\n",
    "data.head()"
   ]
  },
  {
   "cell_type": "code",
   "execution_count": 4,
   "id": "70c1999f",
   "metadata": {},
   "outputs": [
    {
     "data": {
      "text/plain": [
       "Months\n",
       "2019-09-11    595.0\n",
       "2019-09-12    610.0\n",
       "2019-09-13    625.0\n",
       "2019-09-14    640.0\n",
       "2019-09-15    655.0\n",
       "              ...  \n",
       "2021-12-26      NaN\n",
       "2021-12-27      NaN\n",
       "2021-12-28      NaN\n",
       "2021-12-29      NaN\n",
       "2021-12-30    520.0\n",
       "Name: Sales, Length: 842, dtype: float64"
      ]
     },
     "execution_count": 4,
     "metadata": {},
     "output_type": "execute_result"
    }
   ],
   "source": [
    "# Ensure the index is a DatetimeIndex\n",
    "data.index = pd.to_datetime(data.index, errors = 'coerce')\n",
    "\n",
    "# Use resample function to upsample months \n",
    "# to days using the mean sales of month \n",
    "upsampled = data.resample('D').mean() \n",
    "upsampled"
   ]
  },
  {
   "cell_type": "markdown",
   "id": "9e63e151",
   "metadata": {},
   "source": [
    "The dataset has been upsampled with nan values for the remaining days except for those days which were originally available in our dataset. "
   ]
  },
  {
   "cell_type": "markdown",
   "id": "79c9f2e7",
   "metadata": {},
   "source": [
    "Now, we can fill these nan values using a technique called Interpolation. Pandas provide a function called DataFrame.interpolate() for this purpose. \n",
    "\n",
    "``Interpolation`` is a method that involves filling the nan values using one of the techniques like nearest’, ‘zero’, ‘slinear’, ‘quadratic’, ‘cubic’, ‘spline’, ‘barycentric’, ‘polynomial’. We will choose “linear” interpolation. This draws a straight line between available data, in this case on the last of the month, and fills in values at the chosen frequency from this line. "
   ]
  },
  {
   "cell_type": "code",
   "execution_count": 6,
   "id": "b5cdc4e6",
   "metadata": {},
   "outputs": [
    {
     "name": "stdout",
     "output_type": "stream",
     "text": [
      "Months\n",
      "2021-02-01    310.000000\n",
      "2021-02-02    309.629630\n",
      "2021-02-03    309.259259\n",
      "2021-02-04    308.888889\n",
      "2021-02-05    308.518519\n",
      "2021-02-06    308.148148\n",
      "2021-02-07    307.777778\n",
      "2021-02-08    307.407407\n",
      "2021-02-09    307.037037\n",
      "2021-02-10    306.666667\n",
      "2021-02-11    306.296296\n",
      "2021-02-12    305.925926\n",
      "2021-02-13    305.555556\n",
      "2021-02-14    305.185185\n",
      "2021-02-15    304.814815\n",
      "2021-02-16    304.444444\n",
      "2021-02-17    304.074074\n",
      "2021-02-18    303.703704\n",
      "2021-02-19    303.333333\n",
      "2021-02-20    302.962963\n",
      "2021-02-21    302.592593\n",
      "2021-02-22    302.222222\n",
      "2021-02-23    301.851852\n",
      "2021-02-24    301.481481\n",
      "2021-02-25    301.111111\n",
      "2021-02-26    300.740741\n",
      "2021-02-27    300.370370\n",
      "2021-02-28    300.000000\n",
      "Name: Sales, dtype: float64\n"
     ]
    }
   ],
   "source": [
    "# Use interpolate function with method linear to upsample the values of the upsampled days linearly\n",
    "interpolated = upsampled.interpolate(method='linear') \n",
    "\n",
    "# Printing the linear interpolated values for month 2 \n",
    "print(interpolated['2021-02'])"
   ]
  },
  {
   "cell_type": "markdown",
   "id": "4c4a8194",
   "metadata": {},
   "source": [
    "## Upsampling with a polynomial interpolation\n",
    "Another common interpolation method is to use a polynomial or a spline to connect the values. This creates more curves and can look realistic on many datasets. "
   ]
  },
  {
   "cell_type": "code",
   "execution_count": 10,
   "id": "1587af06",
   "metadata": {},
   "outputs": [
    {
     "data": {
      "text/plain": [
       "Months\n",
       "2019-09-11    595.000000\n",
       "2019-09-12    610.000000\n",
       "2019-09-13    625.000000\n",
       "2019-09-14    640.000000\n",
       "2019-09-15    655.000000\n",
       "                 ...    \n",
       "2021-12-26    575.019038\n",
       "2021-12-27    562.873470\n",
       "2021-12-28    549.655108\n",
       "2021-12-29    535.363951\n",
       "2021-12-30    520.000000\n",
       "Name: Sales, Length: 842, dtype: float64"
      ]
     },
     "execution_count": 10,
     "metadata": {},
     "output_type": "execute_result"
    }
   ],
   "source": [
    "# use interpolate function with method polynomial \n",
    "# This upsamples the values of the remaining days with a quadratic function of degree 2. \n",
    "interpolated = upsampled.interpolate(method='polynomial', order=2) \n",
    "\n",
    "# Printing the polynomial interpolated value \n",
    "interpolated"
   ]
  },
  {
   "cell_type": "markdown",
   "id": "df0c0056",
   "metadata": {},
   "source": [
    "## Downsampling"
   ]
  },
  {
   "cell_type": "markdown",
   "id": "c4e9a367",
   "metadata": {},
   "source": [
    "Downsampling involves decreasing the time-frequency of the data, it is a data aggregation procedure where we aggregate the time frequency from a lower level to a higher level. For example summarizing the time-frequency from days to months, or hours to days or seconds to hours. Downsampling usually shrinks the size of the data, depending on the sampling frequency."
   ]
  },
  {
   "cell_type": "markdown",
   "id": "a33fe61c",
   "metadata": {},
   "source": [
    "For example, car sales data shows sales value for the first 6 months daywise. Assume the task here is to predict the value of the quarterly sales. Given daily data, we are asked to predict the quarterly sales data, which signifies the use of downsampling. "
   ]
  },
  {
   "cell_type": "code",
   "execution_count": 12,
   "id": "c83bad63",
   "metadata": {},
   "outputs": [
    {
     "name": "stdout",
     "output_type": "stream",
     "text": [
      "Months\n",
      "2021-01-01    210.000000\n",
      "2021-01-02    209.666667\n",
      "2021-01-03    209.333333\n",
      "2021-01-04    209.000000\n",
      "2021-01-05    208.666667\n",
      "2021-01-06    208.333333\n",
      "Name: Sales, dtype: float64\n"
     ]
    }
   ],
   "source": [
    "# import the python pandas library \n",
    "import pandas as pd \n",
    "\n",
    "# read the data using pandas read_csv() function. \n",
    "data = pd.read_csv(\"car-sales.csv\", header=0, \n",
    "                index_col=0, parse_dates=True) \n",
    "\n",
    "# If you need to convert a single column DataFrame to a Series, you can do so explicitly:\n",
    "if data.shape[1] == 1:\n",
    "    data = data.squeeze()\n",
    "    \n",
    "# printing the first 6 rows of the dataset \n",
    "print(data.head(6)) "
   ]
  },
  {
   "cell_type": "markdown",
   "id": "c1dc93d3",
   "metadata": {},
   "source": [
    "We can use quarterly resampling frequency ‘Q’ to aggregate the data quarter-wise."
   ]
  },
  {
   "cell_type": "code",
   "execution_count": 13,
   "id": "6b10a7dd",
   "metadata": {},
   "outputs": [
    {
     "name": "stdout",
     "output_type": "stream",
     "text": [
      "Months\n",
      "2018-03-31    2088.000000\n",
      "2018-06-30    2269.000000\n",
      "2018-09-30    2452.000000\n",
      "2018-12-31    2636.000000\n",
      "2019-03-31    2818.000000\n",
      "2019-06-30    2999.000000\n",
      "2019-09-30    3182.000000\n",
      "2019-12-31    3366.000000\n",
      "2020-03-31    1357.000000\n",
      "2020-06-30    1539.000000\n",
      "2020-09-30    1722.000000\n",
      "2020-12-31    1906.000000\n",
      "2021-03-31     253.333333\n",
      "2021-06-30     428.901099\n",
      "2021-09-30     988.152174\n",
      "2021-12-31    1144.810127\n",
      "Name: Sales, dtype: float64\n"
     ]
    }
   ],
   "source": [
    "# Use resample function to downsample days \n",
    "# to months using the mean sales of month. \n",
    "downsampled = data.resample('Q').mean() \n",
    "\n",
    "# printing the downsampled data. \n",
    "print(downsampled) "
   ]
  },
  {
   "cell_type": "markdown",
   "id": "7285eb7c",
   "metadata": {},
   "source": [
    "Now, this downsampled data can be used for predicting quarterly sales."
   ]
  },
  {
   "cell_type": "code",
   "execution_count": null,
   "id": "500a53ce",
   "metadata": {},
   "outputs": [],
   "source": []
  }
 ],
 "metadata": {
  "kernelspec": {
   "display_name": "Python 3 (ipykernel)",
   "language": "python",
   "name": "python3"
  },
  "language_info": {
   "codemirror_mode": {
    "name": "ipython",
    "version": 3
   },
   "file_extension": ".py",
   "mimetype": "text/x-python",
   "name": "python",
   "nbconvert_exporter": "python",
   "pygments_lexer": "ipython3",
   "version": "3.8.19"
  }
 },
 "nbformat": 4,
 "nbformat_minor": 5
}
