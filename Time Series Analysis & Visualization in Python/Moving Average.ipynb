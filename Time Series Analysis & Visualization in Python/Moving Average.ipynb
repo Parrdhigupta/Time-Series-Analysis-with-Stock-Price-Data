{
 "cells": [
  {
   "cell_type": "code",
   "execution_count": 1,
   "id": "94c22c7c",
   "metadata": {},
   "outputs": [
    {
     "name": "stdout",
     "output_type": "stream",
     "text": [
      "New number added is 1 , SMA = 0.3333333333333333\n",
      "New number added is 3 , SMA = 1.3333333333333333\n",
      "New number added is 5 , SMA = 3.0\n",
      "New number added is 6 , SMA = 4.666666666666667\n",
      "New number added is 8 , SMA = 6.333333333333333\n",
      "New number added is 12 , SMA = 8.666666666666666\n",
      "New number added is 18 , SMA = 12.666666666666666\n",
      "New number added is 21 , SMA = 17.0\n",
      "New number added is 22 , SMA = 20.333333333333332\n",
      "New number added is 25 , SMA = 22.666666666666668\n"
     ]
    }
   ],
   "source": [
    "# Python3 program to calculate\n",
    "# Simple Moving Average\n",
    "\n",
    "# queue used to store list so that we get the average\n",
    "Dataset = []\n",
    "sum = 0\n",
    "\n",
    "# function to add new data in the\n",
    "# list and update the sum so that\n",
    "# we get the new mean\n",
    "\n",
    "\n",
    "def addData(num):\n",
    "    global sum\n",
    "    sum += num\n",
    "    Dataset.append(num)\n",
    "\n",
    "# Updating size so that length\n",
    "# of data set should be equal\n",
    "# to period as a normal mean has\n",
    "    if (len(Dataset) > period):\n",
    "        sum -= Dataset.pop(0)\n",
    "\n",
    "\n",
    "# function to calculate mean\n",
    "def getMean():\n",
    "    global sum\n",
    "\n",
    "    return sum / period\n",
    "\n",
    "\n",
    "input_data = [1, 3, 5, 6, 8, 12, 18, 21, 22, 25]\n",
    "per = 3\n",
    "period = per\n",
    "for x in input_data:\n",
    "    addData(x)\n",
    "    print(\"New number added is\", x, \", SMA =\", getMean())\n",
    "\n",
    "# This code is contributed by phasing17\n"
   ]
  },
  {
   "cell_type": "code",
   "execution_count": null,
   "id": "c22f8f09",
   "metadata": {},
   "outputs": [],
   "source": []
  }
 ],
 "metadata": {
  "kernelspec": {
   "display_name": "Python 3 (ipykernel)",
   "language": "python",
   "name": "python3"
  },
  "language_info": {
   "codemirror_mode": {
    "name": "ipython",
    "version": 3
   },
   "file_extension": ".py",
   "mimetype": "text/x-python",
   "name": "python",
   "nbconvert_exporter": "python",
   "pygments_lexer": "ipython3",
   "version": "3.8.19"
  }
 },
 "nbformat": 4,
 "nbformat_minor": 5
}
